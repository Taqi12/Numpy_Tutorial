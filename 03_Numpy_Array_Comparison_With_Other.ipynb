{
 "cells": [
  {
   "cell_type": "markdown",
   "metadata": {},
   "source": [
    "## Comparison between Python Lists, Python Arrays, and NumPy Arrays\n",
    "\n",
    "| Feature          | Python List                                     | Python Array                                     | NumPy Array                                     |\n",
    "|------------------|-------------------------------------------------|--------------------------------------------------|-------------------------------------------------|\n",
    "| **Data Type**    | Homogeneous or Heterogeneous                    | Homogeneous                                      | Homogeneous                                     |\n",
    "| **Memory Usage** | Moderate                                        | Moderate                                         | Efficient                                       |\n",
    "| **Performance**  | Slower, especially for large datasets           | Faster than lists, but slower than NumPy arrays | Fast                                            |\n",
    "| **Size**         | Dynamically resizable                           | Fixed size                                       | Dynamically resizable                           |\n",
    "| **Indexing**     | Access and modify elements with brackets `[ ]`  | Access and modify elements with brackets `[ ]`  | Access and modify elements with brackets `[ ]` |\n",
    "| **Operations**   | Limited built-in operations                    | Limited built-in operations                     | Comprehensive built-in operations              |\n",
    "| **Functionality**| Basic functionality                             | Basic functionality                              | Advanced functionality                          |\n",
    "| **Libraries**    | Built-in                                       | `array` module                                   | NumPy                                           |\n",
    "| **Use Cases**    | Small datasets, generic usage                  | Numeric computations, interfacing with C        | Numerical computing, scientific applications    |\n"
   ]
  },
  {
   "cell_type": "markdown",
   "metadata": {},
   "source": [
    "## Data Types:\n",
    "\n",
    "Data types refer to the type of elements that can be stored in a data structure or array. Understanding data types is crucial for ensuring data integrity, optimizing memory usage, and performing efficient computations.\n",
    "\n",
    "- **Python Lists:**\n",
    "  - Python lists can contain elements of different data types (heterogeneous) or the same data type (homogeneous).\n",
    "  - They offer flexibility in storing various types of objects, such as integers, strings, floats, and even other lists.\n",
    "  - However, the flexibility of Python lists comes at the cost of performance, as operations on heterogeneous lists may require type-checking and conversions.\n",
    "\n",
    "- **Python Arrays:**\n",
    "  - Python arrays are homogeneous and can only contain elements of the same data type.\n",
    "  - They are more memory-efficient than Python lists as they store elements of a single data type, resulting in lower memory overhead.\n",
    "  - Python arrays are primarily used for storing numeric data and interfacing with C functions that require homogeneous data structures.\n",
    "\n",
    "- **NumPy Arrays:**\n",
    "  - NumPy arrays are homogeneous and optimized for numerical data.\n",
    "  - They store elements of a single data type in a contiguous block of memory, enabling efficient storage and vectorized operations.\n",
    "  - NumPy supports a wide range of numeric data types, including integers, floats, complex numbers, and custom data types, allowing for precise control over memory usage and data representation.\n",
    "\n",
    "- **Comparative Example:**\n",
    "  - Storing large numeric datasets in NumPy arrays is more memory-efficient compared to Python lists or arrays, as NumPy arrays use optimized storage and memory layouts tailored for numerical computations.\n",
    "\n",
    "\n",
    "## Memory Usage:\n",
    "\n",
    "Memory usage refers to the amount of memory consumed by a data structure or array to store and manipulate data. Efficient memory usage is essential for optimizing resource utilization and minimizing overhead.\n",
    "\n",
    "- **Python Lists:**\n",
    "  - Python lists consume moderate memory and can grow or shrink dynamically as elements are added or removed.\n",
    "  - Each element in a Python list requires additional memory overhead for storing references to objects, resulting in higher memory usage compared to raw data.\n",
    "\n",
    "- **Python Arrays:**\n",
    "  - Python arrays consume moderate memory and have a fixed size, determined at creation.\n",
    "  - They are more memory-efficient than Python lists as they store elements of the same data type and do not require additional memory overhead for object references.\n",
    "\n",
    "- **NumPy Arrays:**\n",
    "  - NumPy arrays are highly memory-efficient due to their contiguous memory allocation and optimized storage.\n",
    "  - They store elements of the same data type in a contiguous block of memory, resulting in lower memory overhead compared to Python lists and arrays.\n",
    "  - NumPy arrays also support efficient resizing operations without copying data, further optimizing memory usage.\n",
    "\n",
    "- **Comparative Example:**\n",
    "  - Creating large arrays with NumPy requires less memory compared to Python lists or arrays, making NumPy more suitable for handling large datasets efficiently.\n",
    "\n",
    "## Performance:\n",
    "\n",
    "Performance refers to the speed and efficiency of operations performed by different data structures or libraries. In the context of Python lists, Python arrays, and NumPy arrays, performance can vary significantly based on factors such as data size, complexity of operations, and underlying implementation.\n",
    "\n",
    "- **Python Lists:**\n",
    "  - Python lists are implemented as dynamic arrays, allowing for flexibility in size and content.\n",
    "  - However, they can be slower, especially for large datasets, due to their dynamic nature and lack of optimization for numerical computations.\n",
    "  - Iterating over Python lists and performing operations on individual elements can be relatively slower compared to other data structures.\n",
    "\n",
    "- **NumPy Arrays:**\n",
    "  - NumPy arrays are highly optimized for numerical computations and data manipulation.\n",
    "  - They are implemented in C and provide efficient storage and vectorized operations, leading to faster performance.\n",
    "  - NumPy arrays are particularly well-suited for handling large datasets and performing complex mathematical operations efficiently.\n",
    "\n",
    "- **Comparative Example:**\n",
    "  - When creating a large array of numbers, NumPy's `np.arange()` function is significantly faster than Python's `list(range())` due to NumPy's optimized implementation.\n",
    "\n",
    "## Size:\n",
    "\n",
    "Size refers to the amount of memory consumed by different data structures or libraries to store and manipulate data. Understanding the size of data structures is essential for memory management and optimizing resource usage.\n",
    "\n",
    "- **Python Lists:**\n",
    "  - Python lists consume moderate memory and can grow or shrink dynamically as elements are added or removed.\n",
    "  - Each element in a Python list requires additional memory overhead for storing references to objects, resulting in higher memory usage compared to raw data.\n",
    "\n",
    "- **Python Arrays:**\n",
    "  - Python arrays consume moderate memory and have a fixed size, determined at creation.\n",
    "  - They are more memory-efficient than Python lists as they store elements of the same data type and do not require additional memory overhead for object references.\n",
    "\n",
    "- **NumPy Arrays:**\n",
    "  - NumPy arrays are highly memory-efficient due to their contiguous memory allocation and optimized storage.\n",
    "  - They store elements of the same data type in a contiguous block of memory, resulting in lower memory overhead compared to Python lists and arrays.\n",
    "  - NumPy arrays also support efficient resizing operations without copying data, further optimizing memory usage.\n",
    "\n",
    "- **Comparative Example:**\n",
    "  - Creating large arrays with NumPy requires less memory compared to Python lists or arrays, making NumPy more suitable for handling large datasets efficiently.\n",
    "\n",
    "## Indexing:\n",
    "\n",
    "Indexing refers to the mechanism of accessing and modifying elements within a data structure. It is essential for retrieving specific data points or subsets of data from arrays or lists efficiently.\n",
    "\n",
    "- **Python Lists:**\n",
    "  - Elements in Python lists are accessed and modified using square brackets `[ ]`.\n",
    "  - Python lists support both positive and negative indexing, where positive indices start from 0 and negative indices count backward from the end of the list.\n",
    "\n",
    "- **NumPy Arrays:**\n",
    "  - Elements in NumPy arrays are accessed and modified using square brackets `[ ]`, similar to Python lists.\n",
    "  - NumPy arrays support advanced indexing techniques such as slicing, masking, and fancy indexing, allowing for efficient selection of subsets of data.\n",
    "\n",
    "- **Example:**\n",
    "  - Accessing the first element of a Python list and a NumPy array:\n",
    "    ```python\n",
    "    # Python List\n",
    "    python_list = [1, 2, 3, 4]\n",
    "    print(python_list[0])  # Output: 1\n",
    "\n",
    "    # NumPy Array\n",
    "    import numpy as np\n",
    "    numpy_array = np.array([1, 2, 3, 4])\n",
    "    print(numpy_array[0])  # Output: 1\n",
    "    ```\n",
    "\n",
    "## Operations:\n",
    "\n",
    "Operations refer to the actions or transformations performed on data stored within arrays or lists. These operations can include arithmetic operations, element-wise operations, aggregation functions, and more.\n",
    "\n",
    "- **Python Lists:**\n",
    "  - Python lists offer limited built-in operations and are not optimized for numerical computations.\n",
    "  - Basic operations such as concatenation (`+` operator) and repetition (`*` operator) are supported.\n",
    "\n",
    "- **NumPy Arrays:**\n",
    "  - NumPy arrays offer comprehensive built-in operations for numerical computations, including mathematical functions, linear algebra operations, statistical functions, and more.\n",
    "  - NumPy arrays support element-wise operations, broadcasting, and vectorized computations, leading to efficient execution of operations on large datasets.\n",
    "\n",
    "- **Example:**\n",
    "  - Performing element-wise addition of two arrays:\n",
    "    ```python\n",
    "    # Python List\n",
    "    python_list1 = [1, 2, 3]\n",
    "    python_list2 = [4, 5, 6]\n",
    "    print(python_list1 + python_list2)  # Output: [1, 2, 3, 4, 5, 6]\n",
    "\n",
    "    # NumPy Array\n",
    "    import numpy as np\n",
    "    numpy_array1 = np.array([1, 2, 3])\n",
    "    numpy_array2 = np.array([4, 5, 6])\n",
    "    print(numpy_array1 + numpy_array2)  # Output: [5 7 9]\n",
    "    ```\n",
    "\n",
    "## Functionality:\n",
    "\n",
    "Functionality refers to the capabilities and features provided by different data structures or libraries for storing, manipulating, and analyzing data efficiently.\n",
    "\n",
    "- **Python Lists:**\n",
    "  - Python lists provide basic functionality for storing and manipulating data.\n",
    "  - They support common operations such as appending, removing, iterating, and sorting elements.\n",
    "\n",
    "- **NumPy Arrays:**\n",
    "  - NumPy arrays provide advanced functionality for numerical computing, scientific computing, and data manipulation.\n",
    "  - They offer a wide range of functions for mathematical operations, linear algebra, statistical analysis, and more.\n",
    "  - NumPy arrays support advanced indexing, slicing, reshaping, and broadcasting operations, enabling complex data manipulations and computations.\n",
    "\n",
    "- **Example:**\n",
    "  - Calculating the length of a Python list and the sum of elements in a NumPy array:\n",
    "    ```python\n",
    "    # Python List\n",
    "    python_list = [1, 2, 3, 4, 5]\n",
    "    print(len(python_list))  # Output: 5\n",
    "\n",
    "    # NumPy Array\n",
    "    import numpy as np\n",
    "    numpy_array = np.array([1, 2, 3, 4, 5])\n",
    "    print(numpy_array.sum())  # Output: 15\n",
    "    ```\n",
    "\n",
    "## Libraries:\n",
    "\n",
    "Libraries refer to external modules or packages that provide additional functionality and tools for performing specific tasks or operations efficiently.\n",
    "\n",
    "- **Python Lists:**\n",
    "  - No additional library is required to work with Python lists as they are built-in data structures in Python.\n",
    "\n",
    "- **Python Arrays:**\n",
    "  - Python arrays are provided by the `array` module in Python's standard library.\n",
    "\n",
    "- **NumPy Arrays:**\n",
    "  - NumPy arrays are part of the NumPy library (`numpy`), which is widely used for numerical computing, scientific computing, and data analysis in Python.\n",
    "  - NumPy offers a vast array of functions and tools for working with arrays, matrices, and multidimensional data efficiently.\n",
    "\n",
    "## Use Cases:\n",
    "\n",
    "Use cases refer to the scenarios or applications where specific data structures or libraries are commonly used to solve problems or perform tasks effectively.\n",
    "\n",
    "- **Python Lists:**\n",
    "  - Python lists are suitable for generic usage and handling small datasets efficiently.\n",
    "  - They are used in a wide range of applications, including data processing, scripting, and general-purpose programming.\n",
    "\n",
    "- **Python Arrays:**\n",
    "  - Python arrays are primarily used for numeric computations, interfacing with C functions, and low-level memory management.\n",
    "\n",
    "- **NumPy Arrays:**\n",
    "  - NumPy arrays are ideal for numerical computing, scientific applications, and handling large datasets efficiently.\n",
    "  - They are commonly used in fields such as machine learning, data analysis, signal processing, and simulations, where fast and efficient array operations are essential.\n"
   ]
  },
  {
   "cell_type": "code",
   "execution_count": 2,
   "metadata": {},
   "outputs": [],
   "source": []
  },
  {
   "cell_type": "markdown",
   "metadata": {},
   "source": [
    "### Data Types"
   ]
  },
  {
   "cell_type": "code",
   "execution_count": 1,
   "metadata": {},
   "outputs": [
    {
     "name": "stdout",
     "output_type": "stream",
     "text": [
      "[1, 'two', 3.0, True]\n",
      "[1, 2, 3, 4]\n",
      "array('i', [1, 2, 3, 4])\n",
      "[1 2 3 4]\n"
     ]
    }
   ],
   "source": [
    "# Python List (Heterogeneous)\n",
    "python_list_heterogeneous = [1, 'two', 3.0, True]\n",
    "print(python_list_heterogeneous)\n",
    "\n",
    "# Python List (Homogeneous)\n",
    "python_list_homogeneous = [1, 2, 3, 4]\n",
    "print(python_list_homogeneous)\n",
    "\n",
    "# Python Array (Homogeneous)\n",
    "from array import array\n",
    "python_array = array('i', [1, 2, 3, 4])\n",
    "print(python_array)\n",
    "\n",
    "# NumPy Array (Homogeneous)\n",
    "import numpy as np\n",
    "numpy_array = np.array([1, 2, 3, 4])\n",
    "print(numpy_array)\n"
   ]
  },
  {
   "cell_type": "markdown",
   "metadata": {},
   "source": [
    "### Memory Usage"
   ]
  },
  {
   "cell_type": "code",
   "execution_count": 3,
   "metadata": {},
   "outputs": [
    {
     "name": "stdout",
     "output_type": "stream",
     "text": [
      "104\n",
      "100\n",
      "40\n"
     ]
    }
   ],
   "source": [
    "import sys\n",
    "\n",
    "# Python List\n",
    "python_list = [1, 2, 3, 4, 5]\n",
    "print(sys.getsizeof(python_list))  # Memory usage of Python list\n",
    "\n",
    "# Python Array\n",
    "from array import array\n",
    "python_array = array('i', [1, 2, 3, 4, 5])\n",
    "print(sys.getsizeof(python_array))  # Memory usage of Python array\n",
    "\n",
    "# NumPy Array\n",
    "import numpy as np\n",
    "numpy_array = np.array([1, 2, 3, 4, 5])\n",
    "print(numpy_array.nbytes)  # Memory usage of NumPy array\n"
   ]
  },
  {
   "cell_type": "markdown",
   "metadata": {},
   "source": [
    "### Performance"
   ]
  },
  {
   "cell_type": "code",
   "execution_count": 4,
   "metadata": {},
   "outputs": [
    {
     "name": "stdout",
     "output_type": "stream",
     "text": [
      "Python list creation time: 0.010789155960083008\n",
      "NumPy array creation time: 0.003293752670288086\n"
     ]
    }
   ],
   "source": [
    "import time\n",
    "\n",
    "# Python List\n",
    "start_time = time.time()\n",
    "python_list = list(range(1000000))\n",
    "end_time = time.time()\n",
    "print(\"Python list creation time:\", end_time - start_time)\n",
    "\n",
    "# NumPy Array\n",
    "start_time = time.time()\n",
    "numpy_array = np.arange(1000000)\n",
    "end_time = time.time()\n",
    "print(\"NumPy array creation time:\", end_time - start_time)\n"
   ]
  },
  {
   "cell_type": "markdown",
   "metadata": {},
   "source": [
    "### Size"
   ]
  },
  {
   "cell_type": "code",
   "execution_count": 7,
   "metadata": {},
   "outputs": [
    {
     "name": "stdout",
     "output_type": "stream",
     "text": [
      "[1, 2, 3, 4, 5]\n",
      "array('i', [1, 2, 3, 4])\n",
      "[1 2 3 4 5]\n"
     ]
    }
   ],
   "source": [
    "# Python List\n",
    "python_list = [1, 2, 3, 4]\n",
    "python_list.append(5)  # Can resize dynamically\n",
    "print(python_list)\n",
    "\n",
    "# Python Array\n",
    "from array import array\n",
    "python_array = array('i', [1, 2, 3, 4])\n",
    "# python_array.append(5)  # Cannot resize dynamically\n",
    "print(python_array)\n",
    "\n",
    "# NumPy Array\n",
    "import numpy as np\n",
    "numpy_array = np.array([1, 2, 3, 4])\n",
    "numpy_array = np.append(numpy_array, 5)  # Can resize dynamically\n",
    "print(numpy_array)\n"
   ]
  },
  {
   "cell_type": "markdown",
   "metadata": {},
   "source": [
    "### Indexing"
   ]
  },
  {
   "cell_type": "code",
   "execution_count": 8,
   "metadata": {},
   "outputs": [
    {
     "name": "stdout",
     "output_type": "stream",
     "text": [
      "1\n",
      "1\n",
      "1\n"
     ]
    }
   ],
   "source": [
    "# Python List\n",
    "python_list = [1, 2, 3, 4]\n",
    "print(python_list[0])  # Accessing the first element\n",
    "\n",
    "# Python Array\n",
    "from array import array\n",
    "python_array = array('i', [1, 2, 3, 4])\n",
    "print(python_array[0])  # Accessing the first element\n",
    "\n",
    "# NumPy Array\n",
    "import numpy as np\n",
    "numpy_array = np.array([1, 2, 3, 4])\n",
    "print(numpy_array[0])  # Accessing the first element\n"
   ]
  },
  {
   "cell_type": "markdown",
   "metadata": {},
   "source": [
    "### Operations"
   ]
  },
  {
   "cell_type": "code",
   "execution_count": 9,
   "metadata": {},
   "outputs": [
    {
     "name": "stdout",
     "output_type": "stream",
     "text": [
      "[1, 2, 3, 4, 5, 6]\n",
      "[1, 2, 3, 4, 5, 6]\n",
      "[5 7 9]\n"
     ]
    }
   ],
   "source": [
    "# Python List\n",
    "python_list1 = [1, 2, 3]\n",
    "python_list2 = [4, 5, 6]\n",
    "print(python_list1 + python_list2)  # Concatenation\n",
    "\n",
    "# Python Array\n",
    "from array import array\n",
    "python_array1 = array('i', [1, 2, 3])\n",
    "python_array2 = array('i', [4, 5, 6])\n",
    "python_array3 = python_array1 + python_array2\n",
    "print(python_array3.tolist())  # Concatenation\n",
    "\n",
    "# NumPy Array\n",
    "import numpy as np\n",
    "numpy_array1 = np.array([1, 2, 3])\n",
    "numpy_array2 = np.array([4, 5, 6])\n",
    "print(numpy_array1 + numpy_array2)  # Element-wise addition\n"
   ]
  },
  {
   "cell_type": "markdown",
   "metadata": {},
   "source": [
    "### Functionality"
   ]
  },
  {
   "cell_type": "code",
   "execution_count": 10,
   "metadata": {},
   "outputs": [
    {
     "name": "stdout",
     "output_type": "stream",
     "text": [
      "5\n",
      "5\n",
      "5\n"
     ]
    }
   ],
   "source": [
    "# Python List\n",
    "python_list = [1, 2, 3, 4, 5]\n",
    "print(len(python_list))  # Length of the list\n",
    "\n",
    "# Python Array\n",
    "from array import array\n",
    "python_array = array('i', [1, 2, 3, 4, 5])\n",
    "print(len(python_array))  # Length of the array\n",
    "\n",
    "# NumPy Array\n",
    "import numpy as np\n",
    "numpy_array = np.array([1, 2, 3, 4, 5])\n",
    "print(len(numpy_array))  # Length of the array\n"
   ]
  },
  {
   "cell_type": "markdown",
   "metadata": {},
   "source": [
    "### Libararies"
   ]
  },
  {
   "cell_type": "code",
   "execution_count": 11,
   "metadata": {},
   "outputs": [],
   "source": [
    "# Python List\n",
    "# No additional library required\n",
    "\n",
    "# Python Array\n",
    "from array import array\n",
    "\n",
    "# NumPy Array\n",
    "import numpy as np\n"
   ]
  },
  {
   "cell_type": "markdown",
   "metadata": {},
   "source": [
    "### Use Cases"
   ]
  },
  {
   "cell_type": "code",
   "execution_count": 12,
   "metadata": {},
   "outputs": [],
   "source": [
    "# Python List\n",
    "python_list = [1, 2, 3, 4, 5]\n",
    "\n",
    "# Python Array\n",
    "from array import array\n",
    "python_array = array('i', [1, 2, 3, 4, 5])\n",
    "\n",
    "# NumPy Array\n",
    "import numpy as np\n",
    "numpy_array = np.array([1, 2, 3, 4, 5])\n"
   ]
  },
  {
   "cell_type": "code",
   "execution_count": null,
   "metadata": {},
   "outputs": [],
   "source": []
  }
 ],
 "metadata": {
  "kernelspec": {
   "display_name": "python_eda",
   "language": "python",
   "name": "python3"
  },
  "language_info": {
   "codemirror_mode": {
    "name": "ipython",
    "version": 3
   },
   "file_extension": ".py",
   "mimetype": "text/x-python",
   "name": "python",
   "nbconvert_exporter": "python",
   "pygments_lexer": "ipython3",
   "version": "3.11.5"
  }
 },
 "nbformat": 4,
 "nbformat_minor": 2
}
