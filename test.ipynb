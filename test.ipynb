{
 "cells": [
  {
   "cell_type": "code",
   "execution_count": 1,
   "metadata": {},
   "outputs": [
    {
     "name": "stdout",
     "output_type": "stream",
     "text": [
      "Taqi 25 25.5\n"
     ]
    }
   ],
   "source": [
    "str1, num1, num2   = \"Taqi\", 25 , 25.5\n",
    "print(str1,num1,num2)"
   ]
  },
  {
   "cell_type": "code",
   "execution_count": 2,
   "metadata": {},
   "outputs": [
    {
     "name": "stdout",
     "output_type": "stream",
     "text": [
      "Taqi 25 2500.5\n",
      "My name is Taqi \n",
      "My age is 25\n",
      "My salary is 2500.500000\n"
     ]
    }
   ],
   "source": [
    "name, age,salary = \"Taqi\", 25 , 2500.5\n",
    "\n",
    "print(name,age,salary)\n",
    "# String formatting with %s\n",
    "print(\"My name is %s \" % (name))\n",
    "# String formatting with %d\n",
    "print(\"My age is %d\" % age)\n",
    "# String formatting with %f\n",
    "print(\"My salary is %f\" % salary)\n"
   ]
  },
  {
   "cell_type": "code",
   "execution_count": 1,
   "metadata": {},
   "outputs": [
    {
     "name": "stdout",
     "output_type": "stream",
     "text": [
      "hello\n"
     ]
    }
   ],
   "source": [
    "print(\"hello\")"
   ]
  },
  {
   "cell_type": "code",
   "execution_count": 4,
   "metadata": {},
   "outputs": [
    {
     "name": "stdout",
     "output_type": "stream",
     "text": [
      "str1 =  Taqi\n",
      "str1[0:4:2] =  Tq\n"
     ]
    }
   ],
   "source": [
    "str1 = \"Taqi\"\n",
    "\n",
    "print(\"str1 = \", str1)\n",
    "print(\"str1[0:4:2] = \", str1[0:4:2])\n"
   ]
  },
  {
   "cell_type": "code",
   "execution_count": 6,
   "metadata": {},
   "outputs": [
    {
     "name": "stdout",
     "output_type": "stream",
     "text": [
      "a = 5, b = 10, c = 3\n"
     ]
    }
   ],
   "source": [
    "# initilize the variables\n",
    "a = 5\n",
    "b = 10\n",
    "c = 3\n",
    "print(\"a = %d, b = %d, c = %d\" % (a, b, c))"
   ]
  },
  {
   "cell_type": "code",
   "execution_count": 7,
   "metadata": {},
   "outputs": [
    {
     "name": "stdout",
     "output_type": "stream",
     "text": [
      "con_str =  Taqi Javed\n"
     ]
    }
   ],
   "source": [
    "str1 = \"Taqi\"\n",
    "str2 = \"Javed\"\n",
    "con_str = str1 + \" \" + str2\n",
    "\n",
    "print(\"con_str = \", con_str)\n"
   ]
  },
  {
   "cell_type": "code",
   "execution_count": 8,
   "metadata": {},
   "outputs": [
    {
     "name": "stdout",
     "output_type": "stream",
     "text": [
      "str1 =  Taqi\n",
      "str1 * 3 =  TaqiTaqiTaqi\n"
     ]
    }
   ],
   "source": [
    "str1 = \"Taqi\"\n",
    "\n",
    "print(\"str1 = \", str1)\n",
    "print(\"str1 * 3 = \", str1 * 3)\n"
   ]
  },
  {
   "cell_type": "code",
   "execution_count": 9,
   "metadata": {},
   "outputs": [
    {
     "name": "stdout",
     "output_type": "stream",
     "text": [
      "str1 =  Taqi\n",
      "str1[0] =  T\n"
     ]
    }
   ],
   "source": [
    "str1 = \"Taqi\"\n",
    "\n",
    "print(\"str1 = \", str1)\n",
    "print(\"str1[0] = \", str1[0])\n"
   ]
  },
  {
   "cell_type": "code",
   "execution_count": 10,
   "metadata": {},
   "outputs": [
    {
     "name": "stdout",
     "output_type": "stream",
     "text": [
      "str1 =  Taqi\n",
      "str1[-1] =  i\n"
     ]
    }
   ],
   "source": [
    "str1 = \"Taqi\"\n",
    "\n",
    "print(\"str1 = \", str1)\n",
    "print(\"str1[-1] = \", str1[-1])\n"
   ]
  },
  {
   "cell_type": "code",
   "execution_count": 11,
   "metadata": {},
   "outputs": [
    {
     "name": "stdout",
     "output_type": "stream",
     "text": [
      "str1 =  Taqi\n",
      "str1[0:2] =  Ta\n"
     ]
    }
   ],
   "source": [
    "str1 = \"Taqi\"\n",
    "\n",
    "print(\"str1 = \", str1)\n",
    "print(\"str1[0:2] = \", str1[0:2])\n"
   ]
  },
  {
   "cell_type": "code",
   "execution_count": 13,
   "metadata": {},
   "outputs": [
    {
     "name": "stdout",
     "output_type": "stream",
     "text": [
      "str1 =  Taqi\n",
      "str1[-4:-2] =  Ta\n"
     ]
    }
   ],
   "source": [
    "str1 = \"Taqi\"\n",
    "\n",
    "print(\"str1 = \", str1)\n",
    "print(\"str1[-4:-2] = \", str1[-4:-2])\n"
   ]
  },
  {
   "cell_type": "code",
   "execution_count": 15,
   "metadata": {},
   "outputs": [
    {
     "name": "stdout",
     "output_type": "stream",
     "text": [
      "str1 =  Taqi\n",
      "str[0:4:2] =  Tq\n"
     ]
    }
   ],
   "source": [
    "str1 = \"Taqi\"\n",
    "\n",
    "print(\"str1 = \", str1)\n",
    "print(\"str[0:4:2] = \", str1[0:4:2])\n"
   ]
  },
  {
   "cell_type": "code",
   "execution_count": 16,
   "metadata": {},
   "outputs": [
    {
     "name": "stdout",
     "output_type": "stream",
     "text": [
      "Taqi 25 2500.5\n",
      "My name is Taqi \n",
      "My age is 25\n",
      "My salary is 2500.500000\n"
     ]
    }
   ],
   "source": [
    "name, age,salary = \"Taqi\", 25 , 2500.5\n",
    "\n",
    "print(name,age,salary)\n",
    "# String formatting with %s\n",
    "print(\"My name is %s \" % (name))\n",
    "# String formatting with %d\n",
    "print(\"My age is %d\" % age)\n",
    "# String formatting with %f\n",
    "print(\"My salary is %f\" % salary)\n"
   ]
  },
  {
   "cell_type": "code",
   "execution_count": 17,
   "metadata": {},
   "outputs": [
    {
     "name": "stdout",
     "output_type": "stream",
     "text": [
      "Taqi 25 2500.5\n",
      "My name is Taqi \n",
      "My age is 25\n",
      "My salary is 2500.500000\n"
     ]
    }
   ],
   "source": [
    "name, age,salary = \"Taqi\", 25 , 2500.5\n",
    "\n",
    "print(name,age,salary)\n",
    "# String formatting with %s\n",
    "print(\"My name is %s \" % (name))\n",
    "# String formatting with %d\n",
    "print(\"My age is %d\" % age)\n",
    "# String formatting with %f\n",
    "print(\"My salary is %f\" % salary)"
   ]
  },
  {
   "cell_type": "code",
   "execution_count": 4,
   "metadata": {},
   "outputs": [
    {
     "name": "stdout",
     "output_type": "stream",
     "text": [
      "list_before_append =  [1, 2, 3]\n",
      "list_after_4_append =  [1, 2, 3, 4]\n",
      "list_after_5_append =  [1, 2, 3, 4, 5]\n"
     ]
    }
   ],
   "source": [
    "list = [1, 2, 3]\n",
    "print(\"list_before_append = \", list)\n",
    "\n",
    "list.append(4)\n",
    "print(\"list_after_4_append = \", list)\n",
    "\n",
    "list.append(5)\n",
    "print(\"list_after_5_append = \", list)"
   ]
  },
  {
   "cell_type": "code",
   "execution_count": 12,
   "metadata": {},
   "outputs": [
    {
     "name": "stdout",
     "output_type": "stream",
     "text": [
      "list1 =  []\n"
     ]
    }
   ],
   "source": [
    "list1 = [1, 2, 3, 4, 5]\n",
    "list1.clear()\n",
    "\n",
    "print(\"list1 = \", list1)"
   ]
  },
  {
   "cell_type": "code",
   "execution_count": null,
   "metadata": {},
   "outputs": [],
   "source": []
  }
 ],
 "metadata": {
  "kernelspec": {
   "display_name": "python_eda",
   "language": "python",
   "name": "python3"
  },
  "language_info": {
   "codemirror_mode": {
    "name": "ipython",
    "version": 3
   },
   "file_extension": ".py",
   "mimetype": "text/x-python",
   "name": "python",
   "nbconvert_exporter": "python",
   "pygments_lexer": "ipython3",
   "version": "3.11.5"
  }
 },
 "nbformat": 4,
 "nbformat_minor": 2
}
