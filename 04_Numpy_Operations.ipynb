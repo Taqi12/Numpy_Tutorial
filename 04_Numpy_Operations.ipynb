{
 "cells": [
  {
   "cell_type": "markdown",
   "metadata": {},
   "source": [
    "1. **Creation of NumPy Arrays:**\n",
    "   - Creating arrays from Python lists: `np.array([1, 2, 3])`: Converts a Python list into a NumPy array.\n",
    "   - Creating arrays with specific values: `np.zeros((3, 3))`, `np.ones((2, 2))`, `np.full((2, 2), 7)`: Creates arrays filled with zeros, ones, or a specified constant value.\n",
    "   - Creating arrays with a range of values: `np.arange(0, 10, 2)`, `np.linspace(0, 1, 5)`: Generates arrays with evenly spaced values within a given range.\n",
    "\n",
    "2. **Array Attributes:**\n",
    "   - Getting the shape of an array: `array.shape`: Returns a tuple representing the dimensions of the array.\n",
    "   - Getting the data type of elements in an array: `array.dtype`: Returns the data type of elements in the array.\n",
    "   - Getting the number of dimensions: `array.ndim`: Returns the number of dimensions (axes) of the array.\n",
    "   - Getting the total number of elements: `array.size`: Returns the total number of elements in the array.\n",
    "\n",
    "3. **Array Indexing and Slicing:**\n",
    "   - Accessing elements: `array[0]`, `array[-1]`: Accesses elements at specific indices in the array.\n",
    "   - Slicing: `array[start:end]`, `array[:3]`, `array[2:]`: Extracts a subset of elements from the array.\n",
    "\n",
    "4. **Element-wise Operations:**\n",
    "   - Arithmetic operations: `array1 + array2`, `array1 * array2`, `array1 / array2`: Performs element-wise addition, multiplication, and division.\n",
    "   - Broadcasting: `array1 + scalar`, `array1 * scalar`: Applies arithmetic operations between arrays and scalar values.\n",
    "\n",
    "5. **Aggregation Functions:**\n",
    "   - Sum of all elements: `np.sum(array)`: Computes the sum of all elements in the array.\n",
    "   - Minimum and maximum elements: `np.min(array)`, `np.max(array)`: Finds the minimum and maximum elements in the array.\n",
    "   - Mean and median: `np.mean(array)`, `np.median(array)`: Calculates the mean and median of the array.\n",
    "   - Variance and standard deviation: `np.var(array)`, `np.std(array)`: Computes the variance and standard deviation of the array.\n",
    "\n",
    "6. **Array Manipulation:**\n",
    "   - Transposing: `array.T`: Transposes the array (rows become columns and vice versa).\n",
    "   - Reshaping: `array.reshape((2, 3))`: Reshapes the array into a new shape.\n",
    "   - Flattening: `array.flatten()`: Converts a multi-dimensional array into a 1D array.\n",
    "   - Concatenation: `np.concatenate((array1, array2))`: Concatenates arrays along a specified axis.\n",
    "   - Stacking: `np.vstack((array1, array2))`, `np.hstack((array1, array2))`: Stacks arrays vertically or horizontally.\n",
    "\n",
    "7. **Array Comparison and Boolean Indexing:**\n",
    "   - Element-wise comparison: `array1 > array2`, `array1 == array2`: Compares elements of two arrays element-wise.\n",
    "   - Boolean indexing: `array[array > 0]`, `array[array % 2 == 0]`: Uses boolean arrays to index or filter elements.\n",
    "\n",
    "8. **Linear Algebra Operations:**\n",
    "   - Matrix multiplication: `np.dot(matrix1, matrix2)`: Computes the dot product of two matrices.\n",
    "   - Matrix inverse: `np.linalg.inv(matrix)`: Computes the inverse of a square matrix.\n",
    "   - Eigenvalues and eigenvectors: `np.linalg.eig(matrix)`: Computes the eigenvalues and eigenvectors of a matrix.\n",
    "   - Singular Value Decomposition (SVD): `np.linalg.svd(matrix)`: Computes the singular value decomposition of a matrix.\n",
    "\n",
    "9. **Random Number Generation:**\n",
    "   - Generating random integers: `np.random.randint(0, 10, size=(2, 2))`: Generates random integers within a specified range.\n",
    "   - Generating random samples from a uniform distribution: `np.random.rand(3, 3)`: Generates random samples from a uniform distribution over [0, 1).\n",
    "   - Generating random samples from a normal distribution: `np.random.randn(3, 3)`: Generates random samples from a standard normal distribution.\n",
    "\n",
    "10. **File Input/Output:**\n",
    "    - Loading data from a text file: `np.loadtxt('data.txt')`: Loads data from a text file into an array.\n",
    "    - Saving data to a text file: `np.savetxt('data.txt', array)`: Saves data from an array to a text file.\n",
    "\n",
    "These explanations provide an overview of various basic operations that can be performed with NumPy arrays, along with their"
   ]
  },
  {
   "cell_type": "code",
   "execution_count": null,
   "metadata": {},
   "outputs": [],
   "source": []
  },
  {
   "cell_type": "markdown",
   "metadata": {},
   "source": [
    "### Creation of NumPy Arrays:"
   ]
  },
  {
   "cell_type": "code",
   "execution_count": 2,
   "metadata": {},
   "outputs": [
    {
     "name": "stdout",
     "output_type": "stream",
     "text": [
      "[1 2 3]\n",
      "[[0. 0. 0.]\n",
      " [0. 0. 0.]\n",
      " [0. 0. 0.]]\n",
      "[[1. 1.]\n",
      " [1. 1.]]\n",
      "[[7 7]\n",
      " [7 7]]\n",
      "[0 2 4 6 8]\n",
      "[0.   0.25 0.5  0.75 1.  ]\n"
     ]
    }
   ],
   "source": [
    "import numpy as np\n",
    "\n",
    "# Creating arrays from Python lists\n",
    "array1 = np.array([1, 2, 3])\n",
    "print(array1)\n",
    "\n",
    "# Creating arrays with specific values\n",
    "array2 = np.zeros((3, 3))\n",
    "print(array2)\n",
    "\n",
    "array3 = np.ones((2, 2))\n",
    "print(array3)\n",
    "\n",
    "array4 = np.full((2, 2), 7)\n",
    "print(array4)\n",
    "\n",
    "# Creating arrays with a range of values\n",
    "array5 = np.arange(0, 10, 2)\n",
    "print(array5)\n",
    "\n",
    "array6 = np.linspace(0, 1, 5)\n",
    "print(array6)\n"
   ]
  },
  {
   "cell_type": "markdown",
   "metadata": {},
   "source": [
    "### Array Attributes"
   ]
  },
  {
   "cell_type": "code",
   "execution_count": 5,
   "metadata": {},
   "outputs": [
    {
     "name": "stdout",
     "output_type": "stream",
     "text": [
      "[1 2 3]\n",
      "(3,)\n",
      "int64\n",
      "1\n",
      "3\n"
     ]
    }
   ],
   "source": [
    "# Creating arrays from Python lists\n",
    "array1 = np.array([1, 2, 3])\n",
    "print(array1)\n",
    "\n",
    "# Getting array shape\n",
    "print(array1.shape)\n",
    "\n",
    "# Getting data type of elements\n",
    "print(array1.dtype)\n",
    "\n",
    "# Getting number of dimensions\n",
    "print(array1.ndim)\n",
    "\n",
    "# Getting total number of elements\n",
    "print(array1.size)\n"
   ]
  },
  {
   "cell_type": "markdown",
   "metadata": {},
   "source": [
    "### Array Indexing and Slicing:\n"
   ]
  },
  {
   "cell_type": "code",
   "execution_count": 6,
   "metadata": {},
   "outputs": [
    {
     "name": "stdout",
     "output_type": "stream",
     "text": [
      "[1 2 3]\n",
      "1\n",
      "[1 2]\n"
     ]
    }
   ],
   "source": [
    "# Creating arrays from Python lists\n",
    "array1 = np.array([1, 2, 3])\n",
    "print(array1)\n",
    "\n",
    "# Accessing elements\n",
    "print(array1[0])\n",
    "\n",
    "# Slicing\n",
    "print(array1[:2])\n"
   ]
  },
  {
   "cell_type": "markdown",
   "metadata": {},
   "source": [
    "### Element-wise Operations"
   ]
  },
  {
   "cell_type": "code",
   "execution_count": 8,
   "metadata": {},
   "outputs": [
    {
     "name": "stdout",
     "output_type": "stream",
     "text": [
      "[5 7 9]\n",
      "[2 4 6]\n"
     ]
    }
   ],
   "source": [
    "array1 = np.array([1, 2, 3])\n",
    "array2 = np.array([4, 5, 6])\n",
    "\n",
    "# Arithmetic operations\n",
    "print(array1 + array2)\n",
    "\n",
    "# Broadcasting\n",
    "print(array1 * 2)\n"
   ]
  },
  {
   "cell_type": "markdown",
   "metadata": {},
   "source": [
    "### Aggregation Functions:\n"
   ]
  },
  {
   "cell_type": "code",
   "execution_count": 9,
   "metadata": {},
   "outputs": [
    {
     "name": "stdout",
     "output_type": "stream",
     "text": [
      "6\n",
      "1 3\n",
      "2.0 2.0\n",
      "0.6666666666666666 0.816496580927726\n"
     ]
    }
   ],
   "source": [
    "array1 = np.array([1, 2, 3])\n",
    "\n",
    "# Sum of all elements\n",
    "print(np.sum(array1))\n",
    "\n",
    "# Minimum and maximum elements\n",
    "print(np.min(array1), np.max(array1))\n",
    "\n",
    "# Mean and median\n",
    "print(np.mean(array1), np.median(array1))\n",
    "\n",
    "# Variance and standard deviation\n",
    "print(np.var(array1), np.std(array1))\n"
   ]
  },
  {
   "cell_type": "markdown",
   "metadata": {},
   "source": [
    "### Array Manipulation"
   ]
  },
  {
   "cell_type": "code",
   "execution_count": 12,
   "metadata": {},
   "outputs": [
    {
     "name": "stdout",
     "output_type": "stream",
     "text": [
      "[4 5 6]\n",
      "[[1 2 3]]\n",
      "[1 2 3]\n",
      "[1 2 3 4 5 6]\n",
      "[[1 2 3]\n",
      " [4 5 6]]\n"
     ]
    }
   ],
   "source": [
    "array1 = np.array([1, 2, 3])\n",
    "array2 = np.array([4, 5, 6])\n",
    "\n",
    "# Transposing\n",
    "print(array2.T)\n",
    "\n",
    "# Reshaping\n",
    "print(array1.reshape((1, 3)))\n",
    "\n",
    "# Flattening\n",
    "print(array1.flatten())\n",
    "\n",
    "# Concatenation\n",
    "print(np.concatenate((array1, array2)))\n",
    "\n",
    "# Stacking\n",
    "print(np.vstack((array1, array2)))\n"
   ]
  },
  {
   "cell_type": "markdown",
   "metadata": {},
   "source": [
    "### Array Comparison and Boolean Indexing:\n"
   ]
  },
  {
   "cell_type": "code",
   "execution_count": 13,
   "metadata": {},
   "outputs": [
    {
     "name": "stdout",
     "output_type": "stream",
     "text": [
      "[False False False]\n",
      "[3]\n"
     ]
    }
   ],
   "source": [
    "array1 = np.array([1, 2, 3])\n",
    "array2 = np.array([4, 5, 6])\n",
    "\n",
    "# Element-wise comparison\n",
    "print(array1 > array2)\n",
    "\n",
    "# Boolean indexing\n",
    "print(array1[array1 > 2])\n"
   ]
  },
  {
   "cell_type": "markdown",
   "metadata": {},
   "source": [
    "### Linear Algebra Operations:"
   ]
  },
  {
   "cell_type": "code",
   "execution_count": 14,
   "metadata": {},
   "outputs": [
    {
     "name": "stdout",
     "output_type": "stream",
     "text": [
      "[[19 22]\n",
      " [43 50]]\n",
      "[[-2.   1. ]\n",
      " [ 1.5 -0.5]]\n",
      "EigResult(eigenvalues=array([-0.37228132,  5.37228132]), eigenvectors=array([[-0.82456484, -0.41597356],\n",
      "       [ 0.56576746, -0.90937671]]))\n",
      "SVDResult(U=array([[-0.40455358, -0.9145143 ],\n",
      "       [-0.9145143 ,  0.40455358]]), S=array([5.4649857 , 0.36596619]), Vh=array([[-0.57604844, -0.81741556],\n",
      "       [ 0.81741556, -0.57604844]]))\n"
     ]
    }
   ],
   "source": [
    "matrix1 = np.array([[1, 2], [3, 4]])\n",
    "matrix2 = np.array([[5, 6], [7, 8]])\n",
    "\n",
    "# Matrix multiplication\n",
    "print(np.dot(matrix1, matrix2))\n",
    "\n",
    "# Matrix inverse\n",
    "print(np.linalg.inv(matrix1))\n",
    "\n",
    "# Eigenvalues and eigenvectors\n",
    "print(np.linalg.eig(matrix1))\n",
    "\n",
    "# Singular Value Decomposition (SVD)\n",
    "print(np.linalg.svd(matrix1))"
   ]
  },
  {
   "cell_type": "markdown",
   "metadata": {},
   "source": [
    "### Random Number Generation:"
   ]
  },
  {
   "cell_type": "code",
   "execution_count": 15,
   "metadata": {},
   "outputs": [
    {
     "name": "stdout",
     "output_type": "stream",
     "text": [
      "[[5 5]\n",
      " [9 7]]\n",
      "[[0.69047725 0.24239124 0.13392834]\n",
      " [0.57626633 0.60441647 0.21587822]\n",
      " [0.9918673  0.70408011 0.79488779]]\n",
      "[[ 0.13989919 -1.03904664  0.16633068]\n",
      " [ 0.82946701  0.37510066  1.91786259]\n",
      " [ 0.87430558 -0.90482989 -0.44926989]]\n"
     ]
    }
   ],
   "source": [
    "# Generating random integers\n",
    "print(np.random.randint(0, 10, size=(2, 2)))\n",
    "\n",
    "# Generating random samples from a uniform distribution\n",
    "print(np.random.rand(3, 3))\n",
    "\n",
    "# Generating random samples from a normal distribution\n",
    "print(np.random.randn(3, 3))\n"
   ]
  },
  {
   "cell_type": "markdown",
   "metadata": {},
   "source": [
    "### File Input/Output:"
   ]
  },
  {
   "cell_type": "code",
   "execution_count": 16,
   "metadata": {},
   "outputs": [
    {
     "name": "stdout",
     "output_type": "stream",
     "text": [
      "[1. 2. 3.]\n"
     ]
    }
   ],
   "source": [
    "# Saving data to a text file\n",
    "np.savetxt('data.txt', array1)\n",
    "\n",
    "# Loading data from a text file\n",
    "loaded_array = np.loadtxt('data.txt')\n",
    "print(loaded_array)"
   ]
  },
  {
   "cell_type": "code",
   "execution_count": 17,
   "metadata": {},
   "outputs": [
    {
     "name": "stdout",
     "output_type": "stream",
     "text": [
      "[[1. 2. 3.]\n",
      " [4. 5. 6.]\n",
      " [7. 8. 9.]]\n"
     ]
    }
   ],
   "source": [
    "import numpy as np\n",
    "\n",
    "# Sample array\n",
    "array1 = np.array([[1, 2, 3],\n",
    "                   [4, 5, 6],\n",
    "                   [7, 8, 9]])\n",
    "\n",
    "# Saving data to a text file\n",
    "np.savetxt('data1.txt', array1)\n",
    "\n",
    "# Loading data from a text file\n",
    "loaded_array = np.loadtxt('data1.txt')\n",
    "print(loaded_array)\n"
   ]
  },
  {
   "cell_type": "code",
   "execution_count": null,
   "metadata": {},
   "outputs": [],
   "source": []
  }
 ],
 "metadata": {
  "kernelspec": {
   "display_name": "python_eda",
   "language": "python",
   "name": "python3"
  },
  "language_info": {
   "codemirror_mode": {
    "name": "ipython",
    "version": 3
   },
   "file_extension": ".py",
   "mimetype": "text/x-python",
   "name": "python",
   "nbconvert_exporter": "python",
   "pygments_lexer": "ipython3",
   "version": "3.11.5"
  }
 },
 "nbformat": 4,
 "nbformat_minor": 2
}
